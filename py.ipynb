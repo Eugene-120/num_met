{
 "cells": [
  {
   "cell_type": "code",
   "execution_count": 28,
   "metadata": {},
   "outputs": [
    {
     "data": {
      "application/vnd.jupyter.widget-view+json": {
       "model_id": "ac8221cedd1c4c1c90af9a218e9888cf",
       "version_major": 2,
       "version_minor": 0
      },
      "text/plain": [
       "interactive(children=(IntSlider(value=500, description='t_index', max=1000), Output()), _dom_classes=('widget-…"
      ]
     },
     "execution_count": 28,
     "metadata": {},
     "output_type": "execute_result"
    }
   ],
   "source": [
    "import numpy as np\n",
    "import matplotlib.pyplot as plt\n",
    "from ipywidgets import interactive\n",
    "\n",
    "# Параметры сетки и времени\n",
    "Nx = 50  # Число узлов по оси x\n",
    "Ny = 50  # Число узлов по оси y\n",
    "Lx = 1   # Длина области по x\n",
    "Ly = 1   # Длина области по y\n",
    "hx = Lx / Nx  # Шаг по x\n",
    "hy = Ly / Ny  # Шаг по y\n",
    "T = 1.0       # Конечное время\n",
    "dt = 0.001    # Шаг по времени\n",
    "Nt = int(T / dt)  # Число временных шагов\n",
    "\n",
    "x = np.linspace(0, Lx, Nx + 1)\n",
    "y = np.linspace(0, Ly, Ny + 1)\n",
    "X, Y = np.meshgrid(x, y)\n",
    "\n",
    "# Начальные условия\n",
    "u = np.zeros((Nx + 1, Ny + 1, Nt + 1))  # Массив решения\n",
    "u[:, :, 0] = 0  # u(x, y, 0) = 0\n",
    "\n",
    "# Метод прогонки для одномерного уравнения\n",
    "def tdma(a, b, c, d):\n",
    "    n = len(d)\n",
    "    w = np.zeros(n - 1)\n",
    "    g = np.zeros(n)\n",
    "    p = np.zeros(n)\n",
    "    \n",
    "    # Прямой ход\n",
    "    w[0] = c[0] / b[0]\n",
    "    g[0] = d[0] / b[0]\n",
    "    for i in range(1, n - 1):\n",
    "        w[i] = c[i] / (b[i] - a[i - 1] * w[i - 1])\n",
    "    for i in range(1, n):\n",
    "        g[i] = (d[i] - a[i - 1] * g[i - 1]) / (b[i] - a[i - 1] * w[i - 1])\n",
    "    \n",
    "    # Обратный ход\n",
    "    p[n - 1] = g[n - 1]\n",
    "    for i in range(n - 2, -1, -1):\n",
    "        p[i] = g[i] - w[i] * p[i + 1]\n",
    "    \n",
    "    return p\n",
    "\n",
    "# Решение уравнения методом переменных направлений\n",
    "for k in range(1, Nt + 1):\n",
    "    # Шаг 1: Прогонка по x\n",
    "    for j in range(1, Ny):\n",
    "        a = np.full(Nx - 1, -dt / hx**2)\n",
    "        b = np.full(Nx, 1 + 2 * dt / hx**2)\n",
    "        c = np.full(Nx - 1, -dt / hx**2)\n",
    "        d = u[1:Nx, j, k - 1] + dt * np.sin(np.pi * x[1:Nx]) * y[j] * (y[j] - 1) * (k * dt)\n",
    "        u[1:Nx, j, k] = tdma(a, b, c, d)\n",
    "\n",
    "    # Граничные условия по x\n",
    "    u[0, :, k] = 0\n",
    "    u[Nx, :, k] = 0\n",
    "\n",
    "    # Шаг 2: Прогонка по y\n",
    "    for i in range(1, Nx):\n",
    "        a = np.full(Ny - 1, -dt / hy**2)\n",
    "        b = np.full(Ny, 1 + 2 * dt / hy**2)\n",
    "        c = np.full(Ny - 1, -dt / hy**2)\n",
    "        d = u[i, 1:Ny, k] + dt * np.sin(np.pi * x[i]) * y[1:Ny] * (y[1:Ny] - 1) * (k * dt)\n",
    "        u[i, 1:Ny, k] = tdma(a, b, c, d)\n",
    "    \n",
    "    # Граничные условия по y\n",
    "    u[:, 0, k] = 0\n",
    "    u[:, Ny, k] = 0\n",
    "\n",
    "# Визуализация результата\n",
    "def plot_solution(t_index):\n",
    "    fig = plt.figure(figsize=(10, 6))\n",
    "    ax = fig.add_subplot(111, projection='3d')\n",
    "    surf = ax.plot_surface(X, Y, u[:, :, t_index], cmap='viridis', edgecolor='none')\n",
    "    \n",
    "    ax.set_title(f'Solution at t = {t_index * dt:.3f}')\n",
    "    ax.set_xlabel('X')\n",
    "    ax.set_ylabel('Y')\n",
    "    ax.set_zlabel('U')\n",
    "    \n",
    "    # Настройка отображения чисел на осях\n",
    "    ax.set_xticks(np.linspace(0, Lx, 5))\n",
    "    ax.set_yticks(np.linspace(0, Ly, 5))\n",
    "    ax.set_zticks(np.linspace(np.min(u), np.max(u), 5))\n",
    "    \n",
    "    plt.colorbar(surf, ax=ax, shrink=0.5, aspect=5)\n",
    "    plt.show()\n",
    "\n",
    "# Интерактивный виджет для выбора времени\n",
    "interactive_plot = interactive(plot_solution, t_index=(0, Nt, 1))\n",
    "interactive_plot\n"
   ]
  },
  {
   "cell_type": "code",
   "execution_count": null,
   "metadata": {},
   "outputs": [],
   "source": []
  }
 ],
 "metadata": {
  "kernelspec": {
   "display_name": "Python 3",
   "language": "python",
   "name": "python3"
  },
  "language_info": {
   "codemirror_mode": {
    "name": "ipython",
    "version": 3
   },
   "file_extension": ".py",
   "mimetype": "text/x-python",
   "name": "python",
   "nbconvert_exporter": "python",
   "pygments_lexer": "ipython3",
   "version": "3.9.13"
  }
 },
 "nbformat": 4,
 "nbformat_minor": 2
}
